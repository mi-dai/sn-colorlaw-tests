{
 "cells": [
  {
   "cell_type": "markdown",
   "id": "73a117db-2fdd-4416-bd6d-5e88876f3d84",
   "metadata": {},
   "source": [
    "# SN light curve fitting"
   ]
  },
  {
   "cell_type": "markdown",
   "id": "f62053cb-0e7f-4e82-ba8e-b91fae6db697",
   "metadata": {},
   "source": [
    "This exploratory notebook tries to use tape to fit SN Ia light curves using a SALT3 model from SNCosmo"
   ]
  },
  {
   "cell_type": "code",
   "execution_count": 1,
   "id": "8726d6b1-1825-4dcd-b077-e11e9467978e",
   "metadata": {},
   "outputs": [],
   "source": [
    "%load_ext autoreload\n",
    "%autoreload 2"
   ]
  },
  {
   "cell_type": "code",
   "execution_count": 2,
   "id": "99bfce46-8611-4950-8e0d-0d47e7318cdf",
   "metadata": {},
   "outputs": [],
   "source": [
    "import sncosmo\n",
    "from tape import Ensemble\n",
    "from tape.utils import ColumnMapper\n",
    "import pandas as pd\n",
    "import dask.dataframe as dd\n",
    "from datautils import fit_salt2\n",
    "from snutils import MySNUtils"
   ]
  },
  {
   "cell_type": "code",
   "execution_count": null,
   "id": "5945e042-6773-41a4-94b9-783f1aa4a1dd",
   "metadata": {},
   "outputs": [],
   "source": [
    "mysn = MySNUtils()\n",
    "fit_lcparams = mysn.fit_lcparams\n"
   ]
  },
  {
   "cell_type": "code",
   "execution_count": 3,
   "id": "3f42a167-f165-4bcf-8b0a-cf7402080f76",
   "metadata": {},
   "outputs": [],
   "source": [
    "ens = Ensemble(client=False)"
   ]
  },
  {
   "cell_type": "markdown",
   "id": "82f30b32-5aa9-4a4f-99a2-77114670129d",
   "metadata": {},
   "source": [
    "#### try using pandas df first"
   ]
  },
  {
   "cell_type": "code",
   "execution_count": 4,
   "id": "f997a057-2801-4e0f-b23a-00e2a79cea05",
   "metadata": {},
   "outputs": [],
   "source": [
    "# %%timeit\n",
    "\n",
    "obj = pd.read_csv('data/allsne_simple_sninfo.txt',sep='\\s+')\n",
    "src = pd.read_csv('data/allsne_simple.txt',sep='\\s+',dtype={\"Type\":str,\"Instrument\":str})"
   ]
  },
  {
   "cell_type": "code",
   "execution_count": 5,
   "id": "eb59e1d9-e837-4a61-adc7-75d9f9510eca",
   "metadata": {},
   "outputs": [
    {
     "data": {
      "text/html": [
       "<div>\n",
       "<style scoped>\n",
       "    .dataframe tbody tr th:only-of-type {\n",
       "        vertical-align: middle;\n",
       "    }\n",
       "\n",
       "    .dataframe tbody tr th {\n",
       "        vertical-align: top;\n",
       "    }\n",
       "\n",
       "    .dataframe thead th {\n",
       "        text-align: right;\n",
       "    }\n",
       "</style>\n",
       "<table border=\"1\" class=\"dataframe\">\n",
       "  <thead>\n",
       "    <tr style=\"text-align: right;\">\n",
       "      <th></th>\n",
       "      <th>Name</th>\n",
       "      <th>RA</th>\n",
       "      <th>DEC</th>\n",
       "      <th>z_helio</th>\n",
       "      <th>z_CMB</th>\n",
       "      <th>Host</th>\n",
       "      <th>Morphology</th>\n",
       "      <th>Type</th>\n",
       "      <th>Sample</th>\n",
       "      <th>xf</th>\n",
       "      <th>yf</th>\n",
       "      <th>Name_upper</th>\n",
       "      <th>Name_alt</th>\n",
       "      <th>Flag</th>\n",
       "    </tr>\n",
       "  </thead>\n",
       "  <tbody>\n",
       "    <tr>\n",
       "      <th>0</th>\n",
       "      <td>sn2004dt</td>\n",
       "      <td>30.553208</td>\n",
       "      <td>-0.097639</td>\n",
       "      <td>0.0197</td>\n",
       "      <td>0.018795</td>\n",
       "      <td>NGC 799</td>\n",
       "      <td>(R')SB(s)a</td>\n",
       "      <td>normal</td>\n",
       "      <td>CSP</td>\n",
       "      <td>NaN</td>\n",
       "      <td>NaN</td>\n",
       "      <td>SN2004DT</td>\n",
       "      <td>sn2004dt</td>\n",
       "      <td>10</td>\n",
       "    </tr>\n",
       "    <tr>\n",
       "      <th>1</th>\n",
       "      <td>sn2004ef</td>\n",
       "      <td>340.541750</td>\n",
       "      <td>19.994556</td>\n",
       "      <td>0.0310</td>\n",
       "      <td>0.029804</td>\n",
       "      <td>UGC 12158</td>\n",
       "      <td>Sb</td>\n",
       "      <td>normal</td>\n",
       "      <td>CSP</td>\n",
       "      <td>NaN</td>\n",
       "      <td>NaN</td>\n",
       "      <td>SN2004EF</td>\n",
       "      <td>sn2004ef</td>\n",
       "      <td>10</td>\n",
       "    </tr>\n",
       "    <tr>\n",
       "      <th>2</th>\n",
       "      <td>sn2004eo</td>\n",
       "      <td>308.225792</td>\n",
       "      <td>9.928528</td>\n",
       "      <td>0.0157</td>\n",
       "      <td>0.014744</td>\n",
       "      <td>NGC 6928</td>\n",
       "      <td>SB(s)ab</td>\n",
       "      <td>normal</td>\n",
       "      <td>CSP</td>\n",
       "      <td>NaN</td>\n",
       "      <td>NaN</td>\n",
       "      <td>SN2004EO</td>\n",
       "      <td>sn2004eo</td>\n",
       "      <td>10</td>\n",
       "    </tr>\n",
       "    <tr>\n",
       "      <th>3</th>\n",
       "      <td>sn2004ey</td>\n",
       "      <td>327.282542</td>\n",
       "      <td>0.444222</td>\n",
       "      <td>0.0158</td>\n",
       "      <td>0.014650</td>\n",
       "      <td>UGC 11816</td>\n",
       "      <td>SB(rs)c</td>\n",
       "      <td>normal</td>\n",
       "      <td>CSP</td>\n",
       "      <td>NaN</td>\n",
       "      <td>NaN</td>\n",
       "      <td>SN2004EY</td>\n",
       "      <td>sn2004ey</td>\n",
       "      <td>10</td>\n",
       "    </tr>\n",
       "    <tr>\n",
       "      <th>4</th>\n",
       "      <td>sn2004gc</td>\n",
       "      <td>80.458125</td>\n",
       "      <td>6.676028</td>\n",
       "      <td>0.0321</td>\n",
       "      <td>0.032135</td>\n",
       "      <td>ARP 327 NED04</td>\n",
       "      <td>cdots</td>\n",
       "      <td>normal</td>\n",
       "      <td>CSP</td>\n",
       "      <td>NaN</td>\n",
       "      <td>NaN</td>\n",
       "      <td>SN2004GC</td>\n",
       "      <td>sn2004gc</td>\n",
       "      <td>10</td>\n",
       "    </tr>\n",
       "  </tbody>\n",
       "</table>\n",
       "</div>"
      ],
      "text/plain": [
       "       Name          RA        DEC  z_helio     z_CMB           Host  \\\n",
       "0  sn2004dt   30.553208  -0.097639   0.0197  0.018795        NGC 799   \n",
       "1  sn2004ef  340.541750  19.994556   0.0310  0.029804      UGC 12158   \n",
       "2  sn2004eo  308.225792   9.928528   0.0157  0.014744       NGC 6928   \n",
       "3  sn2004ey  327.282542   0.444222   0.0158  0.014650      UGC 11816   \n",
       "4  sn2004gc   80.458125   6.676028   0.0321  0.032135  ARP 327 NED04   \n",
       "\n",
       "   Morphology    Type Sample  xf  yf Name_upper  Name_alt  Flag  \n",
       "0  (R')SB(s)a  normal    CSP NaN NaN   SN2004DT  sn2004dt    10  \n",
       "1          Sb  normal    CSP NaN NaN   SN2004EF  sn2004ef    10  \n",
       "2     SB(s)ab  normal    CSP NaN NaN   SN2004EO  sn2004eo    10  \n",
       "3     SB(rs)c  normal    CSP NaN NaN   SN2004EY  sn2004ey    10  \n",
       "4       cdots  normal    CSP NaN NaN   SN2004GC  sn2004gc    10  "
      ]
     },
     "execution_count": 5,
     "metadata": {},
     "output_type": "execute_result"
    }
   ],
   "source": [
    "obj.head()"
   ]
  },
  {
   "cell_type": "code",
   "execution_count": 6,
   "id": "9d612c3e-8af0-4906-8b25-570bc2abc690",
   "metadata": {},
   "outputs": [
    {
     "data": {
      "text/html": [
       "<div>\n",
       "<style scoped>\n",
       "    .dataframe tbody tr th:only-of-type {\n",
       "        vertical-align: middle;\n",
       "    }\n",
       "\n",
       "    .dataframe tbody tr th {\n",
       "        vertical-align: top;\n",
       "    }\n",
       "\n",
       "    .dataframe thead th {\n",
       "        text-align: right;\n",
       "    }\n",
       "</style>\n",
       "<table border=\"1\" class=\"dataframe\">\n",
       "  <thead>\n",
       "    <tr style=\"text-align: right;\">\n",
       "      <th></th>\n",
       "      <th>Name</th>\n",
       "      <th>MJD</th>\n",
       "      <th>Filter</th>\n",
       "      <th>Mag</th>\n",
       "      <th>MagErr</th>\n",
       "      <th>Survey</th>\n",
       "      <th>Name_upper</th>\n",
       "      <th>Name_alt</th>\n",
       "      <th>Type</th>\n",
       "      <th>Instrument</th>\n",
       "    </tr>\n",
       "  </thead>\n",
       "  <tbody>\n",
       "    <tr>\n",
       "      <th>0</th>\n",
       "      <td>SN2004dt</td>\n",
       "      <td>53249.29</td>\n",
       "      <td>u</td>\n",
       "      <td>16.665</td>\n",
       "      <td>0.017</td>\n",
       "      <td>CSP</td>\n",
       "      <td>SN2004DT</td>\n",
       "      <td>SN2004dt</td>\n",
       "      <td>NaN</td>\n",
       "      <td>NaN</td>\n",
       "    </tr>\n",
       "    <tr>\n",
       "      <th>1</th>\n",
       "      <td>SN2004dt</td>\n",
       "      <td>53250.31</td>\n",
       "      <td>u</td>\n",
       "      <td>16.804</td>\n",
       "      <td>0.012</td>\n",
       "      <td>CSP</td>\n",
       "      <td>SN2004DT</td>\n",
       "      <td>SN2004dt</td>\n",
       "      <td>NaN</td>\n",
       "      <td>NaN</td>\n",
       "    </tr>\n",
       "    <tr>\n",
       "      <th>2</th>\n",
       "      <td>SN2004dt</td>\n",
       "      <td>53251.33</td>\n",
       "      <td>u</td>\n",
       "      <td>16.912</td>\n",
       "      <td>0.012</td>\n",
       "      <td>CSP</td>\n",
       "      <td>SN2004DT</td>\n",
       "      <td>SN2004dt</td>\n",
       "      <td>NaN</td>\n",
       "      <td>NaN</td>\n",
       "    </tr>\n",
       "    <tr>\n",
       "      <th>3</th>\n",
       "      <td>SN2004dt</td>\n",
       "      <td>53252.36</td>\n",
       "      <td>u</td>\n",
       "      <td>17.069</td>\n",
       "      <td>0.014</td>\n",
       "      <td>CSP</td>\n",
       "      <td>SN2004DT</td>\n",
       "      <td>SN2004dt</td>\n",
       "      <td>NaN</td>\n",
       "      <td>NaN</td>\n",
       "    </tr>\n",
       "    <tr>\n",
       "      <th>4</th>\n",
       "      <td>SN2004dt</td>\n",
       "      <td>53253.28</td>\n",
       "      <td>u</td>\n",
       "      <td>17.158</td>\n",
       "      <td>0.012</td>\n",
       "      <td>CSP</td>\n",
       "      <td>SN2004DT</td>\n",
       "      <td>SN2004dt</td>\n",
       "      <td>NaN</td>\n",
       "      <td>NaN</td>\n",
       "    </tr>\n",
       "  </tbody>\n",
       "</table>\n",
       "</div>"
      ],
      "text/plain": [
       "       Name       MJD Filter     Mag  MagErr Survey Name_upper  Name_alt Type  \\\n",
       "0  SN2004dt  53249.29      u  16.665   0.017    CSP   SN2004DT  SN2004dt  NaN   \n",
       "1  SN2004dt  53250.31      u  16.804   0.012    CSP   SN2004DT  SN2004dt  NaN   \n",
       "2  SN2004dt  53251.33      u  16.912   0.012    CSP   SN2004DT  SN2004dt  NaN   \n",
       "3  SN2004dt  53252.36      u  17.069   0.014    CSP   SN2004DT  SN2004dt  NaN   \n",
       "4  SN2004dt  53253.28      u  17.158   0.012    CSP   SN2004DT  SN2004dt  NaN   \n",
       "\n",
       "  Instrument  \n",
       "0        NaN  \n",
       "1        NaN  \n",
       "2        NaN  \n",
       "3        NaN  \n",
       "4        NaN  "
      ]
     },
     "execution_count": 6,
     "metadata": {},
     "output_type": "execute_result"
    }
   ],
   "source": [
    "src.head()"
   ]
  },
  {
   "cell_type": "code",
   "execution_count": 7,
   "id": "c83353cb-8a3b-4ee2-a26a-ad3088f1e890",
   "metadata": {},
   "outputs": [],
   "source": [
    "col_map = ColumnMapper(id_col=\"Name_upper\",\n",
    "    time_col=\"MJD\",\n",
    "    flux_col=\"Mag\",\n",
    "    err_col=\"MagErr\",\n",
    "    band_col=\"Filter\")"
   ]
  },
  {
   "cell_type": "code",
   "execution_count": 8,
   "id": "59d6adbf-afd2-4794-86bb-7faddb6511b6",
   "metadata": {},
   "outputs": [
    {
     "data": {
      "text/plain": [
       "<tape.ensemble.Ensemble at 0x107a21990>"
      ]
     },
     "execution_count": 8,
     "metadata": {},
     "output_type": "execute_result"
    }
   ],
   "source": [
    "# %%timeit\n",
    "\n",
    "ens.from_pandas(src,object_frame=obj,column_mapper=col_map,npartitions=1,sync_tables=False)"
   ]
  },
  {
   "cell_type": "markdown",
   "id": "e0786798-3db7-46dd-8e6f-ff0ff6c123b2",
   "metadata": {},
   "source": [
    "#### Now try Dask dataframe"
   ]
  },
  {
   "cell_type": "code",
   "execution_count": 9,
   "id": "21d7f4c3-902b-4de3-96ab-e9a54282a10f",
   "metadata": {},
   "outputs": [],
   "source": [
    "# # %%timeit\n",
    "\n",
    "# obj = dd.read_csv('data/allsne_simple_sninfo.txt',sep='\\s+')\n",
    "# src = dd.read_csv('data/allsne_simple.txt',sep='\\s+',dtype={\"Type\":str,\"Instrument\":str})"
   ]
  },
  {
   "cell_type": "code",
   "execution_count": 10,
   "id": "2912c754-4755-48ba-9d75-0efdb689ed6b",
   "metadata": {},
   "outputs": [],
   "source": [
    "# # %%timeit\n",
    "\n",
    "# ens.from_dask_dataframe(src,object_frame=obj,column_mapper=col_map,sync_tables=False)"
   ]
  },
  {
   "cell_type": "markdown",
   "id": "4357bc05-b1ef-4bdf-880e-b53b4a91a0f0",
   "metadata": {},
   "source": [
    "#### Check ensemble info"
   ]
  },
  {
   "cell_type": "code",
   "execution_count": 11,
   "id": "d4fd70f5-176d-4470-ad75-a2050236f75b",
   "metadata": {},
   "outputs": [
    {
     "name": "stdout",
     "output_type": "stream",
     "text": [
      "Object Table\n",
      "<class 'dask.dataframe.core.DataFrame'>\n",
      "Index: 2642 entries, 03D1AR to SNF20080909-030\n",
      "Data columns (total 14 columns):\n",
      " #   Column      Non-Null Count  Dtype\n",
      "---  ------      --------------  -----\n",
      " 0   Name        2642 non-null      string\n",
      " 1   RA          2625 non-null      float64\n",
      " 2   DEC         2625 non-null      float64\n",
      " 3   z_helio     2524 non-null      float64\n",
      " 4   z_CMB       2507 non-null      float64\n",
      " 5   Host        1736 non-null      string\n",
      " 6   Morphology  493 non-null      string\n",
      " 7   Type        704 non-null      string\n",
      " 8   Sample      2642 non-null      string\n",
      " 9   xf          285 non-null      float64\n",
      "10   yf          285 non-null      float64\n",
      "11   Name_alt    2642 non-null      string\n",
      "12   Flag        2642 non-null      int64\n",
      "13   nobs_total  0 non-null      float64\n",
      "dtypes: float64(7), int64(1), string(6)\n",
      "memory usage: 345.3 KB\n",
      "Source Table\n",
      "<class 'dask.dataframe.core.DataFrame'>\n",
      "Index: 256048 entries, 03D1AR to SNF20080909-030\n",
      "Data columns (total 9 columns):\n",
      " #   Column      Non-Null Count  Dtype\n",
      "---  ------      --------------  -----\n",
      " 0   Name        256048 non-null      string\n",
      " 1   MJD         256048 non-null      float64\n",
      " 2   Filter      256048 non-null      string\n",
      " 3   Mag         212028 non-null      float64\n",
      " 4   MagErr      256044 non-null      float64\n",
      " 5   Survey      256048 non-null      string\n",
      " 6   Name_alt    256048 non-null      string\n",
      " 7   Type        4637 non-null      string\n",
      " 8   Instrument  30814 non-null      string\n",
      "dtypes: float64(3), string(6)\n",
      "memory usage: 21.1 MB\n"
     ]
    }
   ],
   "source": [
    "ens.info(verbose=True)"
   ]
  },
  {
   "cell_type": "markdown",
   "id": "45cb30fe-2ed7-41a3-9860-4cf16e7ef5b0",
   "metadata": {},
   "source": [
    "#### Now query for some subsample"
   ]
  },
  {
   "cell_type": "markdown",
   "id": "749b7d00-59bc-4caa-92ab-d94020a149b0",
   "metadata": {},
   "source": [
    "##### <span style=\"color:red\">Question: how do I query with a list of names (indices)/ first N rows / random N rows?</span>"
   ]
  },
  {
   "cell_type": "code",
   "execution_count": 23,
   "id": "c3ecc2ef-4b74-4383-937b-07f8ab4622e4",
   "metadata": {},
   "outputs": [
    {
     "data": {
      "text/plain": [
       "<tape.ensemble.Ensemble at 0x107a21990>"
      ]
     },
     "execution_count": 23,
     "metadata": {},
     "output_type": "execute_result"
    }
   ],
   "source": [
    "# ens.query(\"Sample == 'Foundation'\")\n",
    "ens.query(\"Name_upper == 'ASASSN-15BC'\")"
   ]
  },
  {
   "cell_type": "markdown",
   "id": "cf46d40b-3ebd-4608-9a8d-af6c77ead2f9",
   "metadata": {},
   "source": [
    "##### show the queried result with ens.compute()"
   ]
  },
  {
   "cell_type": "code",
   "execution_count": 24,
   "id": "0947235c-2b32-46f1-b452-df6eb0675947",
   "metadata": {},
   "outputs": [
    {
     "data": {
      "text/html": [
       "<div>\n",
       "<style scoped>\n",
       "    .dataframe tbody tr th:only-of-type {\n",
       "        vertical-align: middle;\n",
       "    }\n",
       "\n",
       "    .dataframe tbody tr th {\n",
       "        vertical-align: top;\n",
       "    }\n",
       "\n",
       "    .dataframe thead th {\n",
       "        text-align: right;\n",
       "    }\n",
       "</style>\n",
       "<table border=\"1\" class=\"dataframe\">\n",
       "  <thead>\n",
       "    <tr style=\"text-align: right;\">\n",
       "      <th></th>\n",
       "      <th>Name</th>\n",
       "      <th>RA</th>\n",
       "      <th>DEC</th>\n",
       "      <th>z_helio</th>\n",
       "      <th>z_CMB</th>\n",
       "      <th>Host</th>\n",
       "      <th>Morphology</th>\n",
       "      <th>Type</th>\n",
       "      <th>Sample</th>\n",
       "      <th>xf</th>\n",
       "      <th>yf</th>\n",
       "      <th>Name_alt</th>\n",
       "      <th>Flag</th>\n",
       "      <th>nobs_total</th>\n",
       "    </tr>\n",
       "    <tr>\n",
       "      <th>Name_upper</th>\n",
       "      <th></th>\n",
       "      <th></th>\n",
       "      <th></th>\n",
       "      <th></th>\n",
       "      <th></th>\n",
       "      <th></th>\n",
       "      <th></th>\n",
       "      <th></th>\n",
       "      <th></th>\n",
       "      <th></th>\n",
       "      <th></th>\n",
       "      <th></th>\n",
       "      <th></th>\n",
       "      <th></th>\n",
       "    </tr>\n",
       "  </thead>\n",
       "  <tbody>\n",
       "    <tr>\n",
       "      <th>ASASSN-15BC</th>\n",
       "      <td>ASASSN-15bc</td>\n",
       "      <td>61.5625</td>\n",
       "      <td>-8.885633</td>\n",
       "      <td>0.036715</td>\n",
       "      <td>0.036395</td>\n",
       "      <td>2MASX J04061478-0853112</td>\n",
       "      <td>&lt;NA&gt;</td>\n",
       "      <td>&lt;NA&gt;</td>\n",
       "      <td>Foundation</td>\n",
       "      <td>NaN</td>\n",
       "      <td>NaN</td>\n",
       "      <td>ASASSN-15bc</td>\n",
       "      <td>10</td>\n",
       "      <td>NaN</td>\n",
       "    </tr>\n",
       "  </tbody>\n",
       "</table>\n",
       "</div>"
      ],
      "text/plain": [
       "                    Name       RA       DEC   z_helio     z_CMB  \\\n",
       "Name_upper                                                        \n",
       "ASASSN-15BC  ASASSN-15bc  61.5625 -8.885633  0.036715  0.036395   \n",
       "\n",
       "                                Host Morphology  Type      Sample  xf  yf  \\\n",
       "Name_upper                                                                  \n",
       "ASASSN-15BC  2MASX J04061478-0853112       <NA>  <NA>  Foundation NaN NaN   \n",
       "\n",
       "                Name_alt  Flag  nobs_total  \n",
       "Name_upper                                  \n",
       "ASASSN-15BC  ASASSN-15bc    10         NaN  "
      ]
     },
     "execution_count": 24,
     "metadata": {},
     "output_type": "execute_result"
    }
   ],
   "source": [
    "ens.compute(table=\"object\")"
   ]
  },
  {
   "cell_type": "code",
   "execution_count": 25,
   "id": "5e45fdf3-026e-40e2-bb6a-a56411866ea7",
   "metadata": {},
   "outputs": [],
   "source": [
    "#this is for setting up filters for sncosmo\n",
    "register_bands_for_sncosmo()"
   ]
  },
  {
   "cell_type": "markdown",
   "id": "e0f96765-37dd-4876-83de-1c0d06f37963",
   "metadata": {},
   "source": [
    "#### testing the function without using tpae"
   ]
  },
  {
   "cell_type": "code",
   "execution_count": 26,
   "id": "b811ba59-d50e-4aae-a9b0-d19fb80b7f49",
   "metadata": {
    "scrolled": true,
    "tags": []
   },
   "outputs": [
    {
     "name": "stdout",
     "output_type": "stream",
     "text": [
      "Base model info:\n",
      "<Model at 0x28e3cd750>\n",
      "source:\n",
      "  class      : SALT2Source\n",
      "  name       : 'salt2'\n",
      "  version    : T23\n",
      "  phases     : [-20, .., 50] days\n",
      "  wavelengths: [2000, .., 9200] Angstroms\n",
      "effect (name='mw' frame='obs'):\n",
      "  class           : F99Dust\n",
      "  wavelength range: [909.09, 60000] Angstroms\n",
      "  phase range     : [nan, nan]\n",
      "parameters:\n",
      "  z     = 0.0\n",
      "  t0    = 0.0\n",
      "  x0    = 1.0\n",
      "  x1    = 0.0\n",
      "  c     = 0.0\n",
      "  mwebv = 0.0\n",
      "0 fitting  ASASSN-15BC z= 0.036715 zsource= Foundation mwebv= 0.03744680414174253\n",
      "Survey =  Foundation\n"
     ]
    },
    {
     "name": "stderr",
     "output_type": "stream",
     "text": [
      "/Users/mi/anaconda3/envs/tape_env/lib/python3.10/site-packages/iminuit/util.py:172: IMinuitWarning: Assigned errors must be positive. Non-positive values are replaced by a heuristic.\n",
      "  warnings.warn(\n"
     ]
    }
   ],
   "source": [
    "data = ens.compute(table=\"source\").reset_index()\n",
    "meta = ens.compute(table=\"object\").reset_index()\n",
    "res = fit_lcparams(data,meta)"
   ]
  },
  {
   "cell_type": "code",
   "execution_count": 27,
   "id": "b2be38bc-d5aa-4b3e-b8fa-fce4761eb7a5",
   "metadata": {},
   "outputs": [],
   "source": [
    "# get the column names. We will use them as an input to ensemble.batch()\n",
    "dfmeta = pd.DataFrame(res.dtypes.to_dict(),index=[0])"
   ]
  },
  {
   "cell_type": "code",
   "execution_count": 28,
   "id": "8ce1d203-3e7f-4b08-9db5-2079dedc40bc",
   "metadata": {},
   "outputs": [
    {
     "data": {
      "text/html": [
       "<div>\n",
       "<style scoped>\n",
       "    .dataframe tbody tr th:only-of-type {\n",
       "        vertical-align: middle;\n",
       "    }\n",
       "\n",
       "    .dataframe tbody tr th {\n",
       "        vertical-align: top;\n",
       "    }\n",
       "\n",
       "    .dataframe thead th {\n",
       "        text-align: right;\n",
       "    }\n",
       "</style>\n",
       "<table border=\"1\" class=\"dataframe\">\n",
       "  <thead>\n",
       "    <tr style=\"text-align: right;\">\n",
       "      <th></th>\n",
       "      <th>success</th>\n",
       "      <th>ncall</th>\n",
       "      <th>chisq</th>\n",
       "      <th>ndof</th>\n",
       "      <th>z</th>\n",
       "      <th>z_err</th>\n",
       "      <th>t0</th>\n",
       "      <th>t0_err</th>\n",
       "      <th>x0</th>\n",
       "      <th>x0_err</th>\n",
       "      <th>...</th>\n",
       "      <th>mwebv_c_cov</th>\n",
       "      <th>mwebv_mwebv_cov</th>\n",
       "      <th>Name</th>\n",
       "      <th>Survey</th>\n",
       "      <th>ErrorType</th>\n",
       "      <th>ErrorMesg</th>\n",
       "      <th>bands</th>\n",
       "      <th>bands2</th>\n",
       "      <th>last_fitmjd</th>\n",
       "      <th>first_fitmjd</th>\n",
       "    </tr>\n",
       "  </thead>\n",
       "  <tbody>\n",
       "    <tr>\n",
       "      <th>0</th>\n",
       "      <td>int64</td>\n",
       "      <td>int64</td>\n",
       "      <td>float64</td>\n",
       "      <td>int64</td>\n",
       "      <td>float64</td>\n",
       "      <td>float64</td>\n",
       "      <td>float64</td>\n",
       "      <td>float64</td>\n",
       "      <td>float64</td>\n",
       "      <td>float64</td>\n",
       "      <td>...</td>\n",
       "      <td>float64</td>\n",
       "      <td>float64</td>\n",
       "      <td>object</td>\n",
       "      <td>object</td>\n",
       "      <td>object</td>\n",
       "      <td>object</td>\n",
       "      <td>object</td>\n",
       "      <td>object</td>\n",
       "      <td>float64</td>\n",
       "      <td>float64</td>\n",
       "    </tr>\n",
       "  </tbody>\n",
       "</table>\n",
       "<p>1 rows × 60 columns</p>\n",
       "</div>"
      ],
      "text/plain": [
       "  success  ncall    chisq   ndof        z    z_err       t0   t0_err       x0  \\\n",
       "0   int64  int64  float64  int64  float64  float64  float64  float64  float64   \n",
       "\n",
       "    x0_err  ... mwebv_c_cov mwebv_mwebv_cov    Name  Survey ErrorType  \\\n",
       "0  float64  ...     float64         float64  object  object    object   \n",
       "\n",
       "  ErrorMesg   bands  bands2 last_fitmjd first_fitmjd  \n",
       "0    object  object  object     float64      float64  \n",
       "\n",
       "[1 rows x 60 columns]"
      ]
     },
     "execution_count": 28,
     "metadata": {},
     "output_type": "execute_result"
    }
   ],
   "source": [
    "dfmeta"
   ]
  },
  {
   "cell_type": "markdown",
   "id": "9e628c3e-5a63-426a-bacf-d9a923bd12d2",
   "metadata": {},
   "source": [
    "#### Now run with ensemble.batch()"
   ]
  },
  {
   "cell_type": "code",
   "execution_count": 31,
   "id": "4109d63c-987e-4279-ad9f-140d3b25e50c",
   "metadata": {
    "scrolled": true,
    "tags": []
   },
   "outputs": [
    {
     "name": "stdout",
     "output_type": "stream",
     "text": [
      "Base model info:\n",
      "<Model at 0x28db0b9d0>\n",
      "source:\n",
      "  class      : SALT2Source\n",
      "  name       : 'salt2'\n",
      "  version    : T23\n",
      "  phases     : [-20, .., 50] days\n",
      "  wavelengths: [2000, .., 9200] Angstroms\n",
      "effect (name='mw' frame='obs'):\n",
      "  class           : F99Dust\n",
      "  wavelength range: [909.09, 60000] Angstroms\n",
      "  phase range     : [nan, nan]\n",
      "parameters:\n",
      "  z     = 0.0\n",
      "  t0    = 0.0\n",
      "  x0    = 1.0\n",
      "  x1    = 0.0\n",
      "  c     = 0.0\n",
      "  mwebv = 0.0\n",
      "0 fitting  ASASSN-15BC z= 0.036715 zsource= Foundation mwebv= 0.03744680414174253\n",
      "Survey =  Foundation\n"
     ]
    },
    {
     "name": "stderr",
     "output_type": "stream",
     "text": [
      "/Users/mi/anaconda3/envs/tape_env/lib/python3.10/site-packages/iminuit/util.py:172: IMinuitWarning: Assigned errors must be positive. Non-positive values are replaced by a heuristic.\n",
      "  warnings.warn(\n"
     ]
    }
   ],
   "source": [
    "res = ens.batch(fit_salt2,\"Name_upper\",\"MJD\",\"Mag\",\"MagErr\",\"Filter\",\"Instrument\",\"Survey\",\n",
    "          \"RA\",\"DEC\",\"z_helio\",\"Sample\",on=[\"Name_upper\",\"RA\",\"DEC\",\"z_helio\",\"Sample\"],register_bands=True,\n",
    "          meta=dfmeta,rescols=dfmeta,write_to_file=False)"
   ]
  },
  {
   "cell_type": "code",
   "execution_count": 32,
   "id": "a4a081f1-d6b7-4ac7-95bc-0cd1fcc6238f",
   "metadata": {},
   "outputs": [
    {
     "data": {
      "text/html": [
       "<div>\n",
       "<style scoped>\n",
       "    .dataframe tbody tr th:only-of-type {\n",
       "        vertical-align: middle;\n",
       "    }\n",
       "\n",
       "    .dataframe tbody tr th {\n",
       "        vertical-align: top;\n",
       "    }\n",
       "\n",
       "    .dataframe thead th {\n",
       "        text-align: right;\n",
       "    }\n",
       "</style>\n",
       "<table border=\"1\" class=\"dataframe\">\n",
       "  <thead>\n",
       "    <tr style=\"text-align: right;\">\n",
       "      <th></th>\n",
       "      <th></th>\n",
       "      <th></th>\n",
       "      <th></th>\n",
       "      <th></th>\n",
       "      <th>success</th>\n",
       "      <th>ncall</th>\n",
       "      <th>chisq</th>\n",
       "      <th>ndof</th>\n",
       "      <th>z</th>\n",
       "      <th>z_err</th>\n",
       "      <th>t0</th>\n",
       "      <th>t0_err</th>\n",
       "      <th>x0</th>\n",
       "      <th>x0_err</th>\n",
       "      <th>...</th>\n",
       "      <th>mwebv_c_cov</th>\n",
       "      <th>mwebv_mwebv_cov</th>\n",
       "      <th>Name</th>\n",
       "      <th>Survey</th>\n",
       "      <th>ErrorType</th>\n",
       "      <th>ErrorMesg</th>\n",
       "      <th>bands</th>\n",
       "      <th>bands2</th>\n",
       "      <th>last_fitmjd</th>\n",
       "      <th>first_fitmjd</th>\n",
       "    </tr>\n",
       "    <tr>\n",
       "      <th>Name_upper</th>\n",
       "      <th>RA</th>\n",
       "      <th>DEC</th>\n",
       "      <th>z_helio</th>\n",
       "      <th>Sample</th>\n",
       "      <th></th>\n",
       "      <th></th>\n",
       "      <th></th>\n",
       "      <th></th>\n",
       "      <th></th>\n",
       "      <th></th>\n",
       "      <th></th>\n",
       "      <th></th>\n",
       "      <th></th>\n",
       "      <th></th>\n",
       "      <th></th>\n",
       "      <th></th>\n",
       "      <th></th>\n",
       "      <th></th>\n",
       "      <th></th>\n",
       "      <th></th>\n",
       "      <th></th>\n",
       "      <th></th>\n",
       "      <th></th>\n",
       "      <th></th>\n",
       "      <th></th>\n",
       "    </tr>\n",
       "  </thead>\n",
       "  <tbody>\n",
       "    <tr>\n",
       "      <th>ASASSN-15BC</th>\n",
       "      <th>61.5625</th>\n",
       "      <th>-8.885633</th>\n",
       "      <th>0.036715</th>\n",
       "      <th>Foundation</th>\n",
       "      <td>1</td>\n",
       "      <td>52</td>\n",
       "      <td>21.581532</td>\n",
       "      <td>28</td>\n",
       "      <td>0.036715</td>\n",
       "      <td>0.0</td>\n",
       "      <td>57047.828827</td>\n",
       "      <td>0.109858</td>\n",
       "      <td>0.002572</td>\n",
       "      <td>0.000071</td>\n",
       "      <td>...</td>\n",
       "      <td>0.0</td>\n",
       "      <td>0.0</td>\n",
       "      <td>ASASSN-15BC</td>\n",
       "      <td>Foundation</td>\n",
       "      <td>None                                          ...</td>\n",
       "      <td>None                                          ...</td>\n",
       "      <td>girz</td>\n",
       "      <td>girz</td>\n",
       "      <td>57075.225824</td>\n",
       "      <td>57042.214983</td>\n",
       "    </tr>\n",
       "  </tbody>\n",
       "</table>\n",
       "<p>1 rows × 60 columns</p>\n",
       "</div>"
      ],
      "text/plain": [
       "0                                                  success  ncall      chisq  \\\n",
       "Name_upper  RA      DEC       z_helio  Sample                                  \n",
       "ASASSN-15BC 61.5625 -8.885633 0.036715 Foundation        1     52  21.581532   \n",
       "\n",
       "0                                                  ndof         z  z_err  \\\n",
       "Name_upper  RA      DEC       z_helio  Sample                              \n",
       "ASASSN-15BC 61.5625 -8.885633 0.036715 Foundation    28  0.036715    0.0   \n",
       "\n",
       "0                                                            t0    t0_err  \\\n",
       "Name_upper  RA      DEC       z_helio  Sample                               \n",
       "ASASSN-15BC 61.5625 -8.885633 0.036715 Foundation  57047.828827  0.109858   \n",
       "\n",
       "0                                                        x0    x0_err  ...  \\\n",
       "Name_upper  RA      DEC       z_helio  Sample                          ...   \n",
       "ASASSN-15BC 61.5625 -8.885633 0.036715 Foundation  0.002572  0.000071  ...   \n",
       "\n",
       "0                                                  mwebv_c_cov  \\\n",
       "Name_upper  RA      DEC       z_helio  Sample                    \n",
       "ASASSN-15BC 61.5625 -8.885633 0.036715 Foundation          0.0   \n",
       "\n",
       "0                                                  mwebv_mwebv_cov  \\\n",
       "Name_upper  RA      DEC       z_helio  Sample                        \n",
       "ASASSN-15BC 61.5625 -8.885633 0.036715 Foundation              0.0   \n",
       "\n",
       "0                                                                            Name  \\\n",
       "Name_upper  RA      DEC       z_helio  Sample                                       \n",
       "ASASSN-15BC 61.5625 -8.885633 0.036715 Foundation  ASASSN-15BC                      \n",
       "\n",
       "0                                                                Survey  \\\n",
       "Name_upper  RA      DEC       z_helio  Sample                             \n",
       "ASASSN-15BC 61.5625 -8.885633 0.036715 Foundation  Foundation             \n",
       "\n",
       "0                                                                                          ErrorType  \\\n",
       "Name_upper  RA      DEC       z_helio  Sample                                                          \n",
       "ASASSN-15BC 61.5625 -8.885633 0.036715 Foundation  None                                          ...   \n",
       "\n",
       "0                                                                                          ErrorMesg  \\\n",
       "Name_upper  RA      DEC       z_helio  Sample                                                          \n",
       "ASASSN-15BC 61.5625 -8.885633 0.036715 Foundation  None                                          ...   \n",
       "\n",
       "0                                                                 bands  \\\n",
       "Name_upper  RA      DEC       z_helio  Sample                             \n",
       "ASASSN-15BC 61.5625 -8.885633 0.036715 Foundation  girz                   \n",
       "\n",
       "0                                                                bands2  \\\n",
       "Name_upper  RA      DEC       z_helio  Sample                             \n",
       "ASASSN-15BC 61.5625 -8.885633 0.036715 Foundation  girz                   \n",
       "\n",
       "0                                                   last_fitmjd  first_fitmjd  \n",
       "Name_upper  RA      DEC       z_helio  Sample                                  \n",
       "ASASSN-15BC 61.5625 -8.885633 0.036715 Foundation  57075.225824  57042.214983  \n",
       "\n",
       "[1 rows x 60 columns]"
      ]
     },
     "execution_count": 32,
     "metadata": {},
     "output_type": "execute_result"
    }
   ],
   "source": [
    "res"
   ]
  },
  {
   "cell_type": "code",
   "execution_count": null,
   "id": "5d959e78-890c-4eb0-83a7-ff98f86df624",
   "metadata": {},
   "outputs": [],
   "source": []
  }
 ],
 "metadata": {
  "kernelspec": {
   "display_name": "Python [conda env:tape_env]",
   "language": "python",
   "name": "conda-env-tape_env-py"
  },
  "language_info": {
   "codemirror_mode": {
    "name": "ipython",
    "version": 3
   },
   "file_extension": ".py",
   "mimetype": "text/x-python",
   "name": "python",
   "nbconvert_exporter": "python",
   "pygments_lexer": "ipython3",
   "version": "3.10.12"
  }
 },
 "nbformat": 4,
 "nbformat_minor": 5
}
